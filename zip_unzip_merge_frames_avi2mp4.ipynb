{
  "nbformat": 4,
  "nbformat_minor": 0,
  "metadata": {
    "colab": {
      "name": "zip_unzip_merge_frames_avi2mp4.ipynb",
      "provenance": [],
      "authorship_tag": "ABX9TyNaaeoua3CQpdSJgtFPgxb2",
      "include_colab_link": true
    },
    "kernelspec": {
      "name": "python3",
      "display_name": "Python 3"
    },
    "accelerator": "GPU"
  },
  "cells": [
    {
      "cell_type": "markdown",
      "metadata": {
        "id": "view-in-github",
        "colab_type": "text"
      },
      "source": [
        "<a href=\"https://colab.research.google.com/github/alimojdeh/myFiles/blob/main/zip_unzip_merge_frames_avi2mp4.ipynb\" target=\"_parent\"><img src=\"https://colab.research.google.com/assets/colab-badge.svg\" alt=\"Open In Colab\"/></a>"
      ]
    },
    {
      "cell_type": "code",
      "metadata": {
        "id": "UfVWWTVbSNNs"
      },
      "source": [
        "!unzip output.zip -d output"
      ],
      "execution_count": null,
      "outputs": []
    },
    {
      "cell_type": "code",
      "metadata": {
        "id": "RsNObbzPUDMe"
      },
      "source": [
        "!zip -r neutral.zip neutral"
      ],
      "execution_count": null,
      "outputs": []
    },
    {
      "cell_type": "code",
      "metadata": {
        "id": "a_A7zcdHUV3u"
      },
      "source": [
        "import cv2\n",
        "import os\n",
        "\n",
        "image_folder = 'output'\n",
        "video_name = 'output.avi'\n",
        "\n",
        "images = [img for img in os.listdir(image_folder) if img.endswith(\".png\")]\n",
        "frame = cv2.imread(os.path.join(image_folder, images[0]))\n",
        "height, width, layers = frame.shape\n",
        "\n",
        "video = cv2.VideoWriter(video_name, 0, 1, (width,height))\n",
        "i=0\n",
        "for image in images:\n",
        "    video.write(cv2.imread(os.path.join(image_folder, image)))\n",
        "\n",
        "cv2.destroyAllWindows()\n",
        "video.release()"
      ],
      "execution_count": null,
      "outputs": []
    },
    {
      "cell_type": "code",
      "metadata": {
        "id": "ZjTZbbg4Ykfk",
        "outputId": "216f3838-e37f-403f-8378-942e3c2696f2",
        "colab": {
          "base_uri": "https://localhost:8080/"
        }
      },
      "source": [
        "!ffmpeg -i output.avi output.mp4"
      ],
      "execution_count": null,
      "outputs": [
        {
          "output_type": "stream",
          "text": [
            "ffmpeg version 3.4.8-0ubuntu0.2 Copyright (c) 2000-2020 the FFmpeg developers\n",
            "  built with gcc 7 (Ubuntu 7.5.0-3ubuntu1~18.04)\n",
            "  configuration: --prefix=/usr --extra-version=0ubuntu0.2 --toolchain=hardened --libdir=/usr/lib/x86_64-linux-gnu --incdir=/usr/include/x86_64-linux-gnu --enable-gpl --disable-stripping --enable-avresample --enable-avisynth --enable-gnutls --enable-ladspa --enable-libass --enable-libbluray --enable-libbs2b --enable-libcaca --enable-libcdio --enable-libflite --enable-libfontconfig --enable-libfreetype --enable-libfribidi --enable-libgme --enable-libgsm --enable-libmp3lame --enable-libmysofa --enable-libopenjpeg --enable-libopenmpt --enable-libopus --enable-libpulse --enable-librubberband --enable-librsvg --enable-libshine --enable-libsnappy --enable-libsoxr --enable-libspeex --enable-libssh --enable-libtheora --enable-libtwolame --enable-libvorbis --enable-libvpx --enable-libwavpack --enable-libwebp --enable-libx265 --enable-libxml2 --enable-libxvid --enable-libzmq --enable-libzvbi --enable-omx --enable-openal --enable-opengl --enable-sdl2 --enable-libdc1394 --enable-libdrm --enable-libiec61883 --enable-chromaprint --enable-frei0r --enable-libopencv --enable-libx264 --enable-shared\n",
            "  libavutil      55. 78.100 / 55. 78.100\n",
            "  libavcodec     57.107.100 / 57.107.100\n",
            "  libavformat    57. 83.100 / 57. 83.100\n",
            "  libavdevice    57. 10.100 / 57. 10.100\n",
            "  libavfilter     6.107.100 /  6.107.100\n",
            "  libavresample   3.  7.  0 /  3.  7.  0\n",
            "  libswscale      4.  8.100 /  4.  8.100\n",
            "  libswresample   2.  9.100 /  2.  9.100\n",
            "  libpostproc    54.  7.100 / 54.  7.100\n",
            "Input #0, avi, from 'output.avi':\n",
            "  Metadata:\n",
            "    encoder         : Lavf58.35.100\n",
            "  Duration: 00:10:58.00, start: 0.000000, bitrate: 921 kb/s\n",
            "    Stream #0:0: Video: rawvideo (I420 / 0x30323449), yuv420p, 320x240, 923 kb/s, 1 fps, 1 tbr, 1 tbn, 1 tbc\n",
            "Stream mapping:\n",
            "  Stream #0:0 -> #0:0 (rawvideo (native) -> h264 (libx264))\n",
            "Press [q] to stop, [?] for help\n",
            "\u001b[1;36m[libx264 @ 0x556f342cde00] \u001b[0musing cpu capabilities: MMX2 SSE2Fast SSSE3 SSE4.2 AVX FMA3 BMI2 AVX2\n",
            "\u001b[1;36m[libx264 @ 0x556f342cde00] \u001b[0mprofile High, level 1.2\n",
            "\u001b[1;36m[libx264 @ 0x556f342cde00] \u001b[0m264 - core 152 r2854 e9a5903 - H.264/MPEG-4 AVC codec - Copyleft 2003-2017 - http://www.videolan.org/x264.html - options: cabac=1 ref=3 deblock=1:0:0 analyse=0x3:0x113 me=hex subme=7 psy=1 psy_rd=1.00:0.00 mixed_ref=1 me_range=16 chroma_me=1 trellis=1 8x8dct=1 cqm=0 deadzone=21,11 fast_pskip=1 chroma_qp_offset=-2 threads=3 lookahead_threads=1 sliced_threads=0 nr=0 decimate=1 interlaced=0 bluray_compat=0 constrained_intra=0 bframes=3 b_pyramid=2 b_adapt=1 b_bias=0 direct=1 weightb=1 open_gop=0 weightp=2 keyint=250 keyint_min=1 scenecut=40 intra_refresh=0 rc_lookahead=40 rc=crf mbtree=1 crf=23.0 qcomp=0.60 qpmin=0 qpmax=69 qpstep=4 ip_ratio=1.40 aq=1:1.00\n",
            "Output #0, mp4, to 'output.mp4':\n",
            "  Metadata:\n",
            "    encoder         : Lavf57.83.100\n",
            "    Stream #0:0: Video: h264 (libx264) (avc1 / 0x31637661), yuv420p, 320x240, q=-1--1, 1 fps, 16384 tbn, 1 tbc\n",
            "    Metadata:\n",
            "      encoder         : Lavc57.107.100 libx264\n",
            "    Side data:\n",
            "      cpb: bitrate max/min/avg: 0/0/0 buffer size: 0 vbv_delay: -1\n",
            "frame=  658 fps= 83 q=-1.0 Lsize=    7023kB time=00:10:55.00 bitrate=  87.8kbits/s speed=82.8x    \n",
            "video:7015kB audio:0kB subtitle:0kB other streams:0kB global headers:0kB muxing overhead: 0.117033%\n",
            "\u001b[1;36m[libx264 @ 0x556f342cde00] \u001b[0mframe I:19    Avg QP:13.34  size: 20652\n",
            "\u001b[1;36m[libx264 @ 0x556f342cde00] \u001b[0mframe P:257   Avg QP:16.04  size: 11483\n",
            "\u001b[1;36m[libx264 @ 0x556f342cde00] \u001b[0mframe B:382   Avg QP:17.10  size: 10050\n",
            "\u001b[1;36m[libx264 @ 0x556f342cde00] \u001b[0mconsecutive B-frames: 10.2% 30.4% 20.5% 38.9%\n",
            "\u001b[1;36m[libx264 @ 0x556f342cde00] \u001b[0mmb I  I16..4:  9.0% 38.8% 52.2%\n",
            "\u001b[1;36m[libx264 @ 0x556f342cde00] \u001b[0mmb P  I16..4:  2.2% 23.3% 16.8%  P16..4: 20.5% 21.2% 15.7%  0.0%  0.0%    skip: 0.3%\n",
            "\u001b[1;36m[libx264 @ 0x556f342cde00] \u001b[0mmb B  I16..4:  1.9% 17.7% 15.8%  B16..8: 14.0% 17.9% 10.0%  direct:19.0%  skip: 3.5%  L0:50.8% L1:34.1% BI:15.0%\n",
            "\u001b[1;36m[libx264 @ 0x556f342cde00] \u001b[0m8x8 transform intra:51.3% inter:55.4%\n",
            "\u001b[1;36m[libx264 @ 0x556f342cde00] \u001b[0mcoded y,uvDC,uvAC intra: 98.5% 81.3% 66.9% inter: 87.2% 53.5% 5.9%\n",
            "\u001b[1;36m[libx264 @ 0x556f342cde00] \u001b[0mi16 v,h,dc,p:  2% 20% 49% 29%\n",
            "\u001b[1;36m[libx264 @ 0x556f342cde00] \u001b[0mi8 v,h,dc,ddl,ddr,vr,hd,vl,hu: 12% 18% 24%  7%  6%  6%  8%  8% 11%\n",
            "\u001b[1;36m[libx264 @ 0x556f342cde00] \u001b[0mi4 v,h,dc,ddl,ddr,vr,hd,vl,hu: 17% 15% 13%  8%  9% 10%  8% 10%  9%\n",
            "\u001b[1;36m[libx264 @ 0x556f342cde00] \u001b[0mi8c dc,h,v,p: 50% 18% 23%  9%\n",
            "\u001b[1;36m[libx264 @ 0x556f342cde00] \u001b[0mWeighted P-Frames: Y:37.4% UV:17.5%\n",
            "\u001b[1;36m[libx264 @ 0x556f342cde00] \u001b[0mref P L0: 37.2% 16.3% 18.9% 23.1%  4.5%\n",
            "\u001b[1;36m[libx264 @ 0x556f342cde00] \u001b[0mref B L0: 56.5% 31.9% 11.6%\n",
            "\u001b[1;36m[libx264 @ 0x556f342cde00] \u001b[0mref B L1: 89.3% 10.7%\n",
            "\u001b[1;36m[libx264 @ 0x556f342cde00] \u001b[0mkb/s:87.33\n"
          ],
          "name": "stdout"
        }
      ]
    }
  ]
}